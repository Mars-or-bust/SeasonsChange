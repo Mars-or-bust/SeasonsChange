{
 "cells": [
  {
   "cell_type": "code",
   "execution_count": 4,
   "metadata": {},
   "outputs": [
    {
     "name": "stdout",
     "output_type": "stream",
     "text": [
      "src: https://encrypted-tbn0.gstatic.com/images?q=tbn:ANd9GcTXbNXfzMLu5OJirpXdMw5Pr7HE-EWWP-aI8gGkeI57oWDPGOJf566YtqsHTw&s\n",
      "filename: images?q=tbn:ANd9GcTXbNXfzMLu5OJirpXdMw5Pr7HE-EWWP-aI8gGkeI57oWDPGOJf566YtqsHTw&s\n",
      "filename: 1.jpg\n",
      "src: https://encrypted-tbn0.gstatic.com/images?q=tbn:ANd9GcS6TLGQZowA4gfQ7yrUiIpkArR4bMTx4mm5OF4DhF3WSbOFPLd3do5ofUdFhSE&s\n",
      "filename: images?q=tbn:ANd9GcS6TLGQZowA4gfQ7yrUiIpkArR4bMTx4mm5OF4DhF3WSbOFPLd3do5ofUdFhSE&s\n",
      "filename: 2.jpg\n",
      "src: https://encrypted-tbn0.gstatic.com/images?q=tbn:ANd9GcQtRHcyw9cnJJy3C1-zFYBEyLtlhXSU1Tgiyb61k5sPvcibj8C1fg1vhcww9zU&s\n",
      "filename: images?q=tbn:ANd9GcQtRHcyw9cnJJy3C1-zFYBEyLtlhXSU1Tgiyb61k5sPvcibj8C1fg1vhcww9zU&s\n",
      "filename: 3.jpg\n",
      "src: https://encrypted-tbn0.gstatic.com/images?q=tbn:ANd9GcRWdbEvfTF25lR3a9SPcCWvsGb6GlfSCm2q2D9iggLvstP3uKdavEfMXC8xZi0&s\n",
      "filename: images?q=tbn:ANd9GcRWdbEvfTF25lR3a9SPcCWvsGb6GlfSCm2q2D9iggLvstP3uKdavEfMXC8xZi0&s\n",
      "filename: 4.jpg\n"
     ]
    }
   ],
   "source": [
    "import requests\n",
    "from  bs4 import BeautifulSoup\n",
    "import urllib\n",
    "\n",
    "palabra ='house summer landscape'\n",
    "\n",
    "response = requests.get('https://www.google.com/search?q={}&hl=es&sxsrf=ALeKk00KoMQKffGLNWV5UEKbuPwpySPuig:1596391733831&source=lnms&tbm=isch&sa=X&ved=2ahUKEwiajd7Rjv3qAhXqTN8KHSINBkcQ_AUoAXoECBoQAw&biw=1262&bih=593'.format(palabra))\n",
    "soup = BeautifulSoup(response.content,'html.parser')\n",
    "all_images = soup.find_all('img')\n",
    "\n",
    "for i, img in enumerate(all_images[1:5], 1):\n",
    "    src = img['src']\n",
    "    print('src:', src)\n",
    "    \n",
    "    filename = src.split('/')[-1]\n",
    "    print('filename:', filename)\n",
    "\n",
    "    #import urlparse\n",
    "    #parts = urlparse.urlparse(src)\n",
    "    #query = urlparse.parse_qs(parts.query)\n",
    "    #q = query['q'][0]\n",
    "    #filename = q.split(':')[1]\n",
    "    #print 'filename:', filename\n",
    "            \n",
    "    filename = '{}.jpg'.format(i)\n",
    "    print('filename:', filename)\n",
    "    \n",
    "#     urllib.urlretrieve(src, filename)"
   ]
  },
  {
   "cell_type": "code",
   "execution_count": 5,
   "metadata": {},
   "outputs": [
    {
     "data": {
      "text/plain": [
       "[<img alt=\"Google\" class=\"kgJEQe\" src=\"/images/branding/searchlogo/1x/googlelogo_desk_heirloom_color_150x55dp.gif\"/>,\n",
       " <img alt=\"\" class=\"yWs4tf\" src=\"https://encrypted-tbn0.gstatic.com/images?q=tbn:ANd9GcTXbNXfzMLu5OJirpXdMw5Pr7HE-EWWP-aI8gGkeI57oWDPGOJf566YtqsHTw&amp;s\"/>,\n",
       " <img alt=\"\" class=\"yWs4tf\" src=\"https://encrypted-tbn0.gstatic.com/images?q=tbn:ANd9GcS6TLGQZowA4gfQ7yrUiIpkArR4bMTx4mm5OF4DhF3WSbOFPLd3do5ofUdFhSE&amp;s\"/>,\n",
       " <img alt=\"\" class=\"yWs4tf\" src=\"https://encrypted-tbn0.gstatic.com/images?q=tbn:ANd9GcQtRHcyw9cnJJy3C1-zFYBEyLtlhXSU1Tgiyb61k5sPvcibj8C1fg1vhcww9zU&amp;s\"/>,\n",
       " <img alt=\"\" class=\"yWs4tf\" src=\"https://encrypted-tbn0.gstatic.com/images?q=tbn:ANd9GcRWdbEvfTF25lR3a9SPcCWvsGb6GlfSCm2q2D9iggLvstP3uKdavEfMXC8xZi0&amp;s\"/>,\n",
       " <img alt=\"\" class=\"yWs4tf\" src=\"https://encrypted-tbn0.gstatic.com/images?q=tbn:ANd9GcSoUlW9_ikaeItpMXHy4nH-SvMLzVDthoqXe3c1kYFKMLl6XUhFf-znTXlxGw&amp;s\"/>,\n",
       " <img alt=\"\" class=\"yWs4tf\" src=\"https://encrypted-tbn0.gstatic.com/images?q=tbn:ANd9GcQplPu7FUR5YvpGzmTyn7lUIR1aR1SCqQy8ykuzJDAkZaPOnrBtbUce3QuUoFU&amp;s\"/>,\n",
       " <img alt=\"\" class=\"yWs4tf\" src=\"https://encrypted-tbn0.gstatic.com/images?q=tbn:ANd9GcSPicFSeOETzF2iWeHgW_bCELsu2AGS42P43yiKPgqzZXqRkdqEYEhYr8ijDg&amp;s\"/>,\n",
       " <img alt=\"\" class=\"yWs4tf\" src=\"https://encrypted-tbn0.gstatic.com/images?q=tbn:ANd9GcTJm-KPVOMnQ3PVhhAGLwsY7YfgbYfQDTCUxN45pX2neDvkZQ1lc_kfCCs3Xw&amp;s\"/>,\n",
       " <img alt=\"\" class=\"yWs4tf\" src=\"https://encrypted-tbn0.gstatic.com/images?q=tbn:ANd9GcSZd6gCYiVorIbEXReYRbTykYUPd1I7TO94psIyV75zAtzYXiEP-RF7jnDgPg&amp;s\"/>,\n",
       " <img alt=\"\" class=\"yWs4tf\" src=\"https://encrypted-tbn0.gstatic.com/images?q=tbn:ANd9GcQnW0CZlwaDE0diYaxLt7j_5PCV1bntJaA7kLDWoj4TaEZMRyPc74-fyvuunA&amp;s\"/>,\n",
       " <img alt=\"\" class=\"yWs4tf\" src=\"https://encrypted-tbn0.gstatic.com/images?q=tbn:ANd9GcRPIk_JHnjLca97aayv_QNYnI6ucqqdy5Xso5QO5zgJ6tLhYJH3J8X-XtDfX4s&amp;s\"/>,\n",
       " <img alt=\"\" class=\"yWs4tf\" src=\"https://encrypted-tbn0.gstatic.com/images?q=tbn:ANd9GcQUpqngtvGAp7aq-zrBlpDr-CGhE9lFb9RLSjeez8c6uZn_UOfaqbuovDwJWEM&amp;s\"/>,\n",
       " <img alt=\"\" class=\"yWs4tf\" src=\"https://encrypted-tbn0.gstatic.com/images?q=tbn:ANd9GcR8hcn2lPU8xrqHazPWXmWA8SljEwNoh3ks43PZrfvLJSteovknbCo4gFo987A&amp;s\"/>,\n",
       " <img alt=\"\" class=\"yWs4tf\" src=\"https://encrypted-tbn0.gstatic.com/images?q=tbn:ANd9GcS6DSj7X9OUy_3ToE7F8mpjkeBKi7ljSny2lNBJJYPsM65q6b94MB5j-pyPNIs&amp;s\"/>,\n",
       " <img alt=\"\" class=\"yWs4tf\" src=\"https://encrypted-tbn0.gstatic.com/images?q=tbn:ANd9GcTXByX5D3lxOlO4kCKhrMuXPFFwjC57hs2oXYJLSa4v0tPyxxbpr81ZtP9ZXXI&amp;s\"/>,\n",
       " <img alt=\"\" class=\"yWs4tf\" src=\"https://encrypted-tbn0.gstatic.com/images?q=tbn:ANd9GcRKg_Tzq9m8ZNxTzD3F7GEUZ8pw3AfpNK-7hLwacsco-T0MZcOulSblmV_I8nU&amp;s\"/>,\n",
       " <img alt=\"\" class=\"yWs4tf\" src=\"https://encrypted-tbn0.gstatic.com/images?q=tbn:ANd9GcRXqbWupddDTLTT2uao7zdn5De6ucQdaLmvVpCBB09NrW8iXapINsFh8Yo0IA&amp;s\"/>,\n",
       " <img alt=\"\" class=\"yWs4tf\" src=\"https://encrypted-tbn0.gstatic.com/images?q=tbn:ANd9GcTGLvGAE9XUlYb7uQYceeqN2CuH_NoOw8BFGb0o9i9Vs7XRhmyYnRlqCpJxHQ&amp;s\"/>,\n",
       " <img alt=\"\" class=\"yWs4tf\" src=\"https://encrypted-tbn0.gstatic.com/images?q=tbn:ANd9GcSc6XKcMARz-eWY5La7PKB4w5dnVm9FROrKc1YLfdwKACcgWuwc7VEvqNvcftU&amp;s\"/>,\n",
       " <img alt=\"\" class=\"yWs4tf\" src=\"https://encrypted-tbn0.gstatic.com/images?q=tbn:ANd9GcSiijwNS66k27hZXtGsatNO_DBbcjUaNcc2c3SMOujyFvE2qnpfrPQF0P4bVZs&amp;s\"/>]"
      ]
     },
     "execution_count": 5,
     "metadata": {},
     "output_type": "execute_result"
    }
   ],
   "source": [
    "all_images"
   ]
  },
  {
   "cell_type": "code",
   "execution_count": null,
   "metadata": {},
   "outputs": [],
   "source": []
  }
 ],
 "metadata": {
  "kernelspec": {
   "display_name": "Python 3",
   "language": "python",
   "name": "python3"
  },
  "language_info": {
   "codemirror_mode": {
    "name": "ipython",
    "version": 3
   },
   "file_extension": ".py",
   "mimetype": "text/x-python",
   "name": "python",
   "nbconvert_exporter": "python",
   "pygments_lexer": "ipython3",
   "version": "3.8.3"
  }
 },
 "nbformat": 4,
 "nbformat_minor": 4
}
