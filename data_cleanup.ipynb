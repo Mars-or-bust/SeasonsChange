{
 "cells": [
  {
   "cell_type": "code",
   "execution_count": 29,
   "metadata": {},
   "outputs": [],
   "source": [
    "import glob\n",
    "import os\n",
    "import shutil\n",
    "from tqdm import tqdm  \n"
   ]
  },
  {
   "cell_type": "code",
   "execution_count": 9,
   "metadata": {},
   "outputs": [],
   "source": [
    "# File cleanup\n",
    "root = \"/Volumes/Ben's Passport/data/Seasons/images\"\n",
    "new_image_root = \"/Volumes/Ben's Passport/data/Seasons/images_by_season\""
   ]
  },
  {
   "cell_type": "code",
   "execution_count": 14,
   "metadata": {},
   "outputs": [
    {
     "data": {
      "text/plain": [
       "['autumn', 'winter', 'summer', 'spring']"
      ]
     },
     "execution_count": 14,
     "metadata": {},
     "output_type": "execute_result"
    }
   ],
   "source": [
    "seasons = []\n",
    "old_season_paths = glob.glob(root + '/*')\n",
    "for season_path in old_season_paths:\n",
    "    season = season_path.split('/')[-1].split(' ')[0]\n",
    "    seasons.append(season)\n",
    "    new_season_path = os.path.join(new_image_root, season)\n",
    "    os.makedirs(new_season_path, exist_ok=True)\n",
    "seasons"
   ]
  },
  {
   "cell_type": "code",
   "execution_count": 15,
   "metadata": {},
   "outputs": [
    {
     "data": {
      "text/plain": [
       "[\"/Volumes/Ben's Passport/data/Seasons/images/autumn\",\n",
       " \"/Volumes/Ben's Passport/data/Seasons/images/winter snow\",\n",
       " \"/Volumes/Ben's Passport/data/Seasons/images/summer\",\n",
       " \"/Volumes/Ben's Passport/data/Seasons/images/spring\"]"
      ]
     },
     "execution_count": 15,
     "metadata": {},
     "output_type": "execute_result"
    }
   ],
   "source": [
    "old_season_paths"
   ]
  },
  {
   "cell_type": "code",
   "execution_count": 31,
   "metadata": {},
   "outputs": [
    {
     "name": "stderr",
     "output_type": "stream",
     "text": [
      "100%|██████████| 3278/3278 [01:20<00:00, 40.47it/s]\n",
      "100%|██████████| 3779/3779 [01:22<00:00, 45.86it/s]\n",
      "100%|██████████| 2515/2515 [00:53<00:00, 47.36it/s]\n",
      "100%|██████████| 3452/3452 [01:08<00:00, 50.71it/s] \n"
     ]
    }
   ],
   "source": [
    "# Move the files from the subdirectory to the seasons directory\n",
    "for old_season in old_season_paths:\n",
    "    \n",
    "    new_season = old_season.split('/')[-1].split(' ')[0]\n",
    "    new_season_path = os.path.join(new_image_root, new_season)\n",
    "    \n",
    "    \n",
    "    for src in tqdm(glob.glob(old_season + '/*/*')):\n",
    "        filename = src.split('/')[-1]\n",
    "        \n",
    "        new_filename = filename.split('_')[-1]\n",
    "        \n",
    "        dst = os.path.join(new_season_path, new_filename)\n",
    "        \n",
    "        shutil.copyfile(src, dst)\n"
   ]
  },
  {
   "cell_type": "code",
   "execution_count": null,
   "metadata": {},
   "outputs": [],
   "source": []
  }
 ],
 "metadata": {
  "kernelspec": {
   "display_name": "Python 3",
   "language": "python",
   "name": "python3"
  },
  "language_info": {
   "codemirror_mode": {
    "name": "ipython",
    "version": 3
   },
   "file_extension": ".py",
   "mimetype": "text/x-python",
   "name": "python",
   "nbconvert_exporter": "python",
   "pygments_lexer": "ipython3",
   "version": "3.8.3"
  }
 },
 "nbformat": 4,
 "nbformat_minor": 4
}
